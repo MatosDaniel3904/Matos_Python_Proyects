{
 "cells": [
  {
   "cell_type": "code",
   "execution_count": 1,
   "metadata": {},
   "outputs": [],
   "source": [
    "import tkinter as tk\n",
    "\n",
    "def registrar_persona():\n",
    "    nombre = entry_nombre.get()\n",
    "    apellido = entry_apellido.get()\n",
    "    id = entry_id.get()\n",
    "    pais = entry_pais.get()\n",
    "    profesion = entry_profesion.get()\n",
    "\n",
    "    # Aquí puedes agregar la lógica para guardar los datos, por ejemplo, en un archivo o base de datos\n",
    "    print(\"\\n\\nDatos registrados:\")\n",
    "    print(\"Nombre:\", nombre)\n",
    "    print(\"Apellido:\", apellido)\n",
    "    print(\"Número ID:\", id)\n",
    "    print(\"País:\", pais)\n",
    "    print(\"Profesión:\", profesion)\n",
    "\n",
    "# Crear la ventana principal\n",
    "ventana = tk.Tk()\n",
    "ventana.title(\"Registro de Personas\")\n",
    "\n",
    "# Crear los labels y entradas de texto\n",
    "label_nombre = tk.Label(ventana, text=\"Nombre:\")\n",
    "label_nombre.pack()\n",
    "entry_nombre = tk.Entry(ventana)\n",
    "entry_nombre.pack()\n",
    "\n",
    "label_apellido = tk.Label(ventana, text=\"Apellido:\")\n",
    "label_apellido.pack()\n",
    "entry_apellido = tk.Entry(ventana)\n",
    "entry_apellido.pack()\n",
    "\n",
    "label_id = tk.Label(ventana, text=\"Número ID:\")\n",
    "label_id.pack()\n",
    "entry_id = tk.Entry(ventana)\n",
    "entry_id.pack()\n",
    "\n",
    "label_pais = tk.Label(ventana, text=\"Pais:\")\n",
    "label_pais.pack()\n",
    "entry_pais = tk.Entry(ventana)\n",
    "entry_pais.pack()\n",
    "\n",
    "label_profesion = tk.Label(ventana, text=\"Profesión:\")\n",
    "label_profesion.pack()\n",
    "entry_profesion = tk.Entry(ventana)\n",
    "entry_profesion.pack()\n",
    "\n",
    "\n",
    "# Crear el botón de registro\n",
    "boton_registrar = tk.Button(ventana, text=\"Registrar\", command=registrar_persona)\n",
    "boton_registrar.pack()\n",
    "\n",
    "# Iniciar el bucle principal de la aplicación\n",
    "ventana.mainloop()"
   ]
  }
 ],
 "metadata": {
  "kernelspec": {
   "display_name": "Python 3",
   "language": "python",
   "name": "python3"
  },
  "language_info": {
   "codemirror_mode": {
    "name": "ipython",
    "version": 3
   },
   "file_extension": ".py",
   "mimetype": "text/x-python",
   "name": "python",
   "nbconvert_exporter": "python",
   "pygments_lexer": "ipython3",
   "version": "3.12.2"
  }
 },
 "nbformat": 4,
 "nbformat_minor": 2
}
